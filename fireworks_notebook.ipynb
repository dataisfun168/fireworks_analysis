{
 "cells": [
  {
   "cell_type": "code",
   "execution_count": 1,
   "id": "e73f2222-3cc4-4f92-b0b8-f7cffaf72f53",
   "metadata": {},
   "outputs": [],
   "source": [
    "import pandas as pd \n"
   ]
  },
  {
   "cell_type": "code",
   "execution_count": 2,
   "id": "1c49c09d-967e-45ea-9d74-a4d418bc71df",
   "metadata": {},
   "outputs": [],
   "source": [
    "#df=pd.read_csv(\"311_0614_0712.csv\")"
   ]
  },
  {
   "cell_type": "code",
   "execution_count": 3,
   "id": "e2d2b867-e352-4dc4-b781-db683f20da8e",
   "metadata": {},
   "outputs": [],
   "source": [
    "#df=pd.read_csv(\"311_0621_0712_i_only.csv\", low_memory=False)"
   ]
  },
  {
   "cell_type": "code",
   "execution_count": 4,
   "id": "cb49e446-6d6a-48ec-9031-dda1bb5a6966",
   "metadata": {},
   "outputs": [],
   "source": [
    "df=pd.read_csv(\"311_may_julyi.csv\", low_memory=False)"
   ]
  },
  {
   "cell_type": "code",
   "execution_count": 5,
   "id": "f7ed6d20-8fce-4949-83f7-9c967d7f47a2",
   "metadata": {},
   "outputs": [
    {
     "data": {
      "text/html": [
       "<div>\n",
       "<style scoped>\n",
       "    .dataframe tbody tr th:only-of-type {\n",
       "        vertical-align: middle;\n",
       "    }\n",
       "\n",
       "    .dataframe tbody tr th {\n",
       "        vertical-align: top;\n",
       "    }\n",
       "\n",
       "    .dataframe thead th {\n",
       "        text-align: right;\n",
       "    }\n",
       "</style>\n",
       "<table border=\"1\" class=\"dataframe\">\n",
       "  <thead>\n",
       "    <tr style=\"text-align: right;\">\n",
       "      <th></th>\n",
       "      <th>Unique Key</th>\n",
       "      <th>Created Date</th>\n",
       "      <th>Closed Date</th>\n",
       "      <th>Agency</th>\n",
       "      <th>Agency Name</th>\n",
       "      <th>Complaint Type</th>\n",
       "      <th>Descriptor</th>\n",
       "      <th>Location Type</th>\n",
       "      <th>Incident Zip</th>\n",
       "      <th>Incident Address</th>\n",
       "      <th>...</th>\n",
       "      <th>Bridge Highway Segment</th>\n",
       "      <th>Latitude</th>\n",
       "      <th>Longitude</th>\n",
       "      <th>Location</th>\n",
       "      <th>Zip Codes</th>\n",
       "      <th>Community Districts</th>\n",
       "      <th>Borough Boundaries</th>\n",
       "      <th>City Council Districts</th>\n",
       "      <th>Police Precincts</th>\n",
       "      <th>Police Precinct</th>\n",
       "    </tr>\n",
       "  </thead>\n",
       "  <tbody>\n",
       "    <tr>\n",
       "      <th>0</th>\n",
       "      <td>61752565</td>\n",
       "      <td>07/09/2024 11:58:55 PM</td>\n",
       "      <td>07/10/2024 02:34:33 AM</td>\n",
       "      <td>NYPD</td>\n",
       "      <td>New York City Police Department</td>\n",
       "      <td>Illegal Parking</td>\n",
       "      <td>Commercial Overnight Parking</td>\n",
       "      <td>Street/Sidewalk</td>\n",
       "      <td>11370.0</td>\n",
       "      <td>22-15 79 STREET</td>\n",
       "      <td>...</td>\n",
       "      <td>NaN</td>\n",
       "      <td>40.768269</td>\n",
       "      <td>-73.890511</td>\n",
       "      <td>(40.76826949428633, -73.89051137517352)</td>\n",
       "      <td>14781.0</td>\n",
       "      <td>39.0</td>\n",
       "      <td>3.0</td>\n",
       "      <td>4.0</td>\n",
       "      <td>72.0</td>\n",
       "      <td>72.0</td>\n",
       "    </tr>\n",
       "    <tr>\n",
       "      <th>1</th>\n",
       "      <td>61752730</td>\n",
       "      <td>07/09/2024 11:58:50 PM</td>\n",
       "      <td>07/13/2024 02:09:21 PM</td>\n",
       "      <td>DSNY</td>\n",
       "      <td>Department of Sanitation</td>\n",
       "      <td>Illegal Dumping</td>\n",
       "      <td>Removal Request</td>\n",
       "      <td>Street</td>\n",
       "      <td>11234.0</td>\n",
       "      <td>AVENUE T</td>\n",
       "      <td>...</td>\n",
       "      <td>NaN</td>\n",
       "      <td>40.615647</td>\n",
       "      <td>-73.917888</td>\n",
       "      <td>(40.61564738951791, -73.91788759522589)</td>\n",
       "      <td>13825.0</td>\n",
       "      <td>5.0</td>\n",
       "      <td>2.0</td>\n",
       "      <td>8.0</td>\n",
       "      <td>38.0</td>\n",
       "      <td>38.0</td>\n",
       "    </tr>\n",
       "    <tr>\n",
       "      <th>2</th>\n",
       "      <td>61752963</td>\n",
       "      <td>07/09/2024 11:56:55 PM</td>\n",
       "      <td>07/10/2024 01:00:38 AM</td>\n",
       "      <td>NYPD</td>\n",
       "      <td>New York City Police Department</td>\n",
       "      <td>Illegal Parking</td>\n",
       "      <td>Blocked Hydrant</td>\n",
       "      <td>Street/Sidewalk</td>\n",
       "      <td>11209.0</td>\n",
       "      <td>22 79 STREET</td>\n",
       "      <td>...</td>\n",
       "      <td>NaN</td>\n",
       "      <td>40.631025</td>\n",
       "      <td>-74.037929</td>\n",
       "      <td>(40.631024820938094, -74.03792948585019)</td>\n",
       "      <td>17216.0</td>\n",
       "      <td>10.0</td>\n",
       "      <td>2.0</td>\n",
       "      <td>44.0</td>\n",
       "      <td>41.0</td>\n",
       "      <td>41.0</td>\n",
       "    </tr>\n",
       "    <tr>\n",
       "      <th>3</th>\n",
       "      <td>61754356</td>\n",
       "      <td>07/09/2024 11:53:45 PM</td>\n",
       "      <td>07/10/2024 12:33:40 AM</td>\n",
       "      <td>NYPD</td>\n",
       "      <td>New York City Police Department</td>\n",
       "      <td>Illegal Fireworks</td>\n",
       "      <td>NaN</td>\n",
       "      <td>Park/Playground</td>\n",
       "      <td>11105.0</td>\n",
       "      <td>19 STREET</td>\n",
       "      <td>...</td>\n",
       "      <td>NaN</td>\n",
       "      <td>40.778456</td>\n",
       "      <td>-73.921395</td>\n",
       "      <td>(40.778455728519226, -73.92139502498065)</td>\n",
       "      <td>16862.0</td>\n",
       "      <td>39.0</td>\n",
       "      <td>3.0</td>\n",
       "      <td>4.0</td>\n",
       "      <td>72.0</td>\n",
       "      <td>72.0</td>\n",
       "    </tr>\n",
       "    <tr>\n",
       "      <th>4</th>\n",
       "      <td>61755585</td>\n",
       "      <td>07/09/2024 11:53:09 PM</td>\n",
       "      <td>07/10/2024 12:47:05 AM</td>\n",
       "      <td>NYPD</td>\n",
       "      <td>New York City Police Department</td>\n",
       "      <td>Illegal Fireworks</td>\n",
       "      <td>NaN</td>\n",
       "      <td>Street/Sidewalk</td>\n",
       "      <td>10044.0</td>\n",
       "      <td>460 MAIN STREET</td>\n",
       "      <td>...</td>\n",
       "      <td>NaN</td>\n",
       "      <td>40.759182</td>\n",
       "      <td>-73.951963</td>\n",
       "      <td>(40.759182489087706, -73.9519626902161)</td>\n",
       "      <td>13099.0</td>\n",
       "      <td>23.0</td>\n",
       "      <td>4.0</td>\n",
       "      <td>1.0</td>\n",
       "      <td>72.0</td>\n",
       "      <td>72.0</td>\n",
       "    </tr>\n",
       "  </tbody>\n",
       "</table>\n",
       "<p>5 rows × 47 columns</p>\n",
       "</div>"
      ],
      "text/plain": [
       "   Unique Key            Created Date             Closed Date Agency  \\\n",
       "0    61752565  07/09/2024 11:58:55 PM  07/10/2024 02:34:33 AM   NYPD   \n",
       "1    61752730  07/09/2024 11:58:50 PM  07/13/2024 02:09:21 PM   DSNY   \n",
       "2    61752963  07/09/2024 11:56:55 PM  07/10/2024 01:00:38 AM   NYPD   \n",
       "3    61754356  07/09/2024 11:53:45 PM  07/10/2024 12:33:40 AM   NYPD   \n",
       "4    61755585  07/09/2024 11:53:09 PM  07/10/2024 12:47:05 AM   NYPD   \n",
       "\n",
       "                       Agency Name     Complaint Type  \\\n",
       "0  New York City Police Department    Illegal Parking   \n",
       "1         Department of Sanitation    Illegal Dumping   \n",
       "2  New York City Police Department    Illegal Parking   \n",
       "3  New York City Police Department  Illegal Fireworks   \n",
       "4  New York City Police Department  Illegal Fireworks   \n",
       "\n",
       "                     Descriptor    Location Type  Incident Zip  \\\n",
       "0  Commercial Overnight Parking  Street/Sidewalk       11370.0   \n",
       "1               Removal Request           Street       11234.0   \n",
       "2               Blocked Hydrant  Street/Sidewalk       11209.0   \n",
       "3                           NaN  Park/Playground       11105.0   \n",
       "4                           NaN  Street/Sidewalk       10044.0   \n",
       "\n",
       "  Incident Address  ... Bridge Highway Segment   Latitude  Longitude  \\\n",
       "0  22-15 79 STREET  ...                    NaN  40.768269 -73.890511   \n",
       "1         AVENUE T  ...                    NaN  40.615647 -73.917888   \n",
       "2     22 79 STREET  ...                    NaN  40.631025 -74.037929   \n",
       "3        19 STREET  ...                    NaN  40.778456 -73.921395   \n",
       "4  460 MAIN STREET  ...                    NaN  40.759182 -73.951963   \n",
       "\n",
       "                                   Location Zip Codes Community Districts  \\\n",
       "0   (40.76826949428633, -73.89051137517352)   14781.0                39.0   \n",
       "1   (40.61564738951791, -73.91788759522589)   13825.0                 5.0   \n",
       "2  (40.631024820938094, -74.03792948585019)   17216.0                10.0   \n",
       "3  (40.778455728519226, -73.92139502498065)   16862.0                39.0   \n",
       "4   (40.759182489087706, -73.9519626902161)   13099.0                23.0   \n",
       "\n",
       "  Borough Boundaries City Council Districts  Police Precincts Police Precinct  \n",
       "0                3.0                    4.0              72.0            72.0  \n",
       "1                2.0                    8.0              38.0            38.0  \n",
       "2                2.0                   44.0              41.0            41.0  \n",
       "3                3.0                    4.0              72.0            72.0  \n",
       "4                4.0                    1.0              72.0            72.0  \n",
       "\n",
       "[5 rows x 47 columns]"
      ]
     },
     "execution_count": 5,
     "metadata": {},
     "output_type": "execute_result"
    }
   ],
   "source": [
    "df.head()"
   ]
  },
  {
   "cell_type": "code",
   "execution_count": 6,
   "id": "23ee9c1e-21e9-4083-a89a-b2ec617ad591",
   "metadata": {},
   "outputs": [
    {
     "data": {
      "text/plain": [
       "(123392, 47)"
      ]
     },
     "execution_count": 6,
     "metadata": {},
     "output_type": "execute_result"
    }
   ],
   "source": [
    "df.shape"
   ]
  },
  {
   "cell_type": "markdown",
   "id": "8c9de94b-dff1-460e-a133-bde56726d557",
   "metadata": {},
   "source": [
    "##how many firework complaints?"
   ]
  },
  {
   "cell_type": "code",
   "execution_count": 9,
   "id": "a09f39e1-3f14-4d27-8d7b-e5ea9ee496bd",
   "metadata": {},
   "outputs": [
    {
     "data": {
      "text/plain": [
       "8006"
      ]
     },
     "execution_count": 9,
     "metadata": {},
     "output_type": "execute_result"
    }
   ],
   "source": [
    "len(df[df['Complaint Type']==\"Illegal Fireworks\"])"
   ]
  },
  {
   "cell_type": "code",
   "execution_count": 10,
   "id": "be0d2b9b-df76-482a-995b-1f715c7cf337",
   "metadata": {},
   "outputs": [],
   "source": [
    "##How many illegal complaints"
   ]
  },
  {
   "cell_type": "code",
   "execution_count": 11,
   "id": "973ac066-3fe9-4a79-a0b4-ecc59d7d663d",
   "metadata": {},
   "outputs": [
    {
     "data": {
      "text/plain": [
       "Complaint Type\n",
       "Illegal Parking               104375\n",
       "Illegal Dumping                 8390\n",
       "Illegal Fireworks               8006\n",
       "Illegal Tree Damage             1558\n",
       "Illegal Posting                  931\n",
       "Illegal Animal Kept as Pet       118\n",
       "Illegal Animal Sold               14\n",
       "Name: count, dtype: int64"
      ]
     },
     "execution_count": 11,
     "metadata": {},
     "output_type": "execute_result"
    }
   ],
   "source": [
    "df['Complaint Type'].value_counts()"
   ]
  },
  {
   "cell_type": "code",
   "execution_count": 12,
   "id": "3cd58b07-7e1e-49f1-a8e2-7e3b539e8f12",
   "metadata": {},
   "outputs": [
    {
     "data": {
      "text/plain": [
       "<Axes: ylabel='Complaint Type'>"
      ]
     },
     "execution_count": 12,
     "metadata": {},
     "output_type": "execute_result"
    },
    {
     "data": {
      "image/png": "[encoded data removed]",
      "text/plain": [
       "<Figure size 800x500 with 1 Axes>"
      ]
     },
     "metadata": {},
     "output_type": "display_data"
    }
   ],
   "source": [
    "df['Complaint Type'].value_counts().sort_values(ascending=True).plot(kind=\"barh\", figsize= (8,5))"
   ]
  },
  {
   "cell_type": "code",
   "execution_count": 13,
   "id": "d514864c-d8c2-445d-b336-97d94262498f",
   "metadata": {},
   "outputs": [],
   "source": [
    "value_counts = df['Complaint Type'].value_counts().reset_index()\n",
    "value_counts.columns = ['Category', 'Count']"
   ]
  },
  {
   "cell_type": "code",
   "execution_count": 14,
   "id": "d9b04059-a838-45b8-ae53-f66d89677ffe",
   "metadata": {},
   "outputs": [
    {
     "data": {
      "text/html": [
       "\n",
       "<style>\n",
       "  #altair-viz-ab729aeb52b74d719e39f8790ed8815b.vega-embed {\n",
       "    width: 100%;\n",
       "    display: flex;\n",
       "  }\n",
       "\n",
       "  #altair-viz-ab729aeb52b74d719e39f8790ed8815b.vega-embed details,\n",
       "  #altair-viz-ab729aeb52b74d719e39f8790ed8815b.vega-embed details summary {\n",
       "    position: relative;\n",
       "  }\n",
       "</style>\n",
       "<div id=\"altair-viz-ab729aeb52b74d719e39f8790ed8815b\"></div>\n",
       "<script type=\"text/javascript\">\n",
       "  var VEGA_DEBUG = (typeof VEGA_DEBUG == \"undefined\") ? {} : VEGA_DEBUG;\n",
       "  (function(spec, embedOpt){\n",
       "    let outputDiv = document.currentScript.previousElementSibling;\n",
       "    if (outputDiv.id !== \"altair-viz-ab729aeb52b74d719e39f8790ed8815b\") {\n",
       "      outputDiv = document.getElementById(\"altair-viz-ab729aeb52b74d719e39f8790ed8815b\");\n",
       "    }\n",
       "    const paths = {\n",
       "      \"vega\": \"https://cdn.jsdelivr.net/npm/vega@5?noext\",\n",
       "      \"vega-lib\": \"https://cdn.jsdelivr.net/npm/vega-lib?noext\",\n",
       "      \"vega-lite\": \"https://cdn.jsdelivr.net/npm/vega-lite@5.17.0?noext\",\n",
       "      \"vega-embed\": \"https://cdn.jsdelivr.net/npm/vega-embed@6?noext\",\n",
       "    };\n",
       "\n",
       "    function maybeLoadScript(lib, version) {\n",
       "      var key = `${lib.replace(\"-\", \"\")}_version`;\n",
       "      return (VEGA_DEBUG[key] == version) ?\n",
       "        Promise.resolve(paths[lib]) :\n",
       "        new Promise(function(resolve, reject) {\n",
       "          var s = document.createElement('script');\n",
       "          document.getElementsByTagName(\"head\")[0].appendChild(s);\n",
       "          s.async = true;\n",
       "          s.onload = () => {\n",
       "            VEGA_DEBUG[key] = version;\n",
       "            return resolve(paths[lib]);\n",
       "          };\n",
       "          s.onerror = () => reject(`Error loading script: ${paths[lib]}`);\n",
       "          s.src = paths[lib];\n",
       "        });\n",
       "    }\n",
       "\n",
       "    function showError(err) {\n",
       "      outputDiv.innerHTML = `<div class=\"error\" style=\"color:red;\">${err}</div>`;\n",
       "      throw err;\n",
       "    }\n",
       "\n",
       "    function displayChart(vegaEmbed) {\n",
       "      vegaEmbed(outputDiv, spec, embedOpt)\n",
       "        .catch(err => showError(`Javascript Error: ${err.message}<br>This usually means there's a typo in your chart specification. See the javascript console for the full traceback.`));\n",
       "    }\n",
       "\n",
       "    if(typeof define === \"function\" && define.amd) {\n",
       "      requirejs.config({paths});\n",
       "      require([\"vega-embed\"], displayChart, err => showError(`Error loading script: ${err.message}`));\n",
       "    } else {\n",
       "      maybeLoadScript(\"vega\", \"5\")\n",
       "        .then(() => maybeLoadScript(\"vega-lite\", \"5.17.0\"))\n",
       "        .then(() => maybeLoadScript(\"vega-embed\", \"6\"))\n",
       "        .catch(showError)\n",
       "        .then(() => displayChart(vegaEmbed));\n",
       "    }\n",
       "  })({\"config\": {\"view\": {\"continuousWidth\": 300, \"continuousHeight\": 300}, \"axis\": {\"grid\": false}}, \"data\": {\"name\": \"data-b851257683b8c12846cd40a0df5ae2d5\"}, \"mark\": {\"type\": \"bar\", \"color\": \"darkblue\"}, \"encoding\": {\"x\": {\"field\": \"Count\", \"type\": \"quantitative\"}, \"y\": {\"field\": \"Category\", \"type\": \"nominal\"}}, \"height\": 300, \"title\": \" Top 311 Complaints by Category\", \"width\": 800, \"$schema\": \"https://vega.github.io/schema/vega-lite/v5.17.0.json\", \"datasets\": {\"data-b851257683b8c12846cd40a0df5ae2d5\": [{\"Category\": \"Illegal Parking\", \"Count\": 104375}, {\"Category\": \"Illegal Dumping\", \"Count\": 8390}, {\"Category\": \"Illegal Fireworks\", \"Count\": 8006}, {\"Category\": \"Illegal Tree Damage\", \"Count\": 1558}, {\"Category\": \"Illegal Posting\", \"Count\": 931}, {\"Category\": \"Illegal Animal Kept as Pet\", \"Count\": 118}, {\"Category\": \"Illegal Animal Sold\", \"Count\": 14}]}}, {\"mode\": \"vega-lite\"});\n",
       "</script>"
      ],
      "text/plain": [
       "alt.Chart(...)"
      ]
     },
     "metadata": {},
     "output_type": "display_data"
    }
   ],
   "source": [
    "import altair as alt\n",
    "# Create Altair chart\n",
    "chart = alt.Chart(value_counts).mark_bar(color=\"darkblue\").encode(\n",
    "    x='Count',\n",
    "    y='Category'\n",
    ").properties(\n",
    "    title=' Top 311 Complaints by Category',\n",
    "    width=800,\n",
    "    height=300\n",
    ")\n",
    "\n",
    "#remove gridlines\n",
    "chart = chart.configure_axis(\n",
    "    grid=False  \n",
    ")\n",
    "\n",
    "\n",
    "\n",
    "chart.show()\n",
    "#chart.save(\"category_value_counts.svg\")"
   ]
  },
  {
   "cell_type": "code",
   "execution_count": null,
   "id": "59dace52-08be-4259-b3d7-1291549dc6f0",
   "metadata": {},
   "outputs": [],
   "source": [
    "##Create highlighted bar chart"
   ]
  },
  {
   "cell_type": "code",
   "execution_count": 15,
   "id": "5fc72d84-bdb1-46a9-83af-1420d99bb8f7",
   "metadata": {},
   "outputs": [
    {
     "data": {
      "text/html": [
       "\n",
       "<style>\n",
       "  #altair-viz-99c6114979e6447d89f3515bb933167a.vega-embed {\n",
       "    width: 100%;\n",
       "    display: flex;\n",
       "  }\n",
       "\n",
       "  #altair-viz-99c6114979e6447d89f3515bb933167a.vega-embed details,\n",
       "  #altair-viz-99c6114979e6447d89f3515bb933167a.vega-embed details summary {\n",
       "    position: relative;\n",
       "  }\n",
       "</style>\n",
       "<div id=\"altair-viz-99c6114979e6447d89f3515bb933167a\"></div>\n",
       "<script type=\"text/javascript\">\n",
       "  var VEGA_DEBUG = (typeof VEGA_DEBUG == \"undefined\") ? {} : VEGA_DEBUG;\n",
       "  (function(spec, embedOpt){\n",
       "    let outputDiv = document.currentScript.previousElementSibling;\n",
       "    if (outputDiv.id !== \"altair-viz-99c6114979e6447d89f3515bb933167a\") {\n",
       "      outputDiv = document.getElementById(\"altair-viz-99c6114979e6447d89f3515bb933167a\");\n",
       "    }\n",
       "    const paths = {\n",
       "      \"vega\": \"https://cdn.jsdelivr.net/npm/vega@5?noext\",\n",
       "      \"vega-lib\": \"https://cdn.jsdelivr.net/npm/vega-lib?noext\",\n",
       "      \"vega-lite\": \"https://cdn.jsdelivr.net/npm/vega-lite@5.17.0?noext\",\n",
       "      \"vega-embed\": \"https://cdn.jsdelivr.net/npm/vega-embed@6?noext\",\n",
       "    };\n",
       "\n",
       "    function maybeLoadScript(lib, version) {\n",
       "      var key = `${lib.replace(\"-\", \"\")}_version`;\n",
       "      return (VEGA_DEBUG[key] == version) ?\n",
       "        Promise.resolve(paths[lib]) :\n",
       "        new Promise(function(resolve, reject) {\n",
       "          var s = document.createElement('script');\n",
       "          document.getElementsByTagName(\"head\")[0].appendChild(s);\n",
       "          s.async = true;\n",
       "          s.onload = () => {\n",
       "            VEGA_DEBUG[key] = version;\n",
       "            return resolve(paths[lib]);\n",
       "          };\n",
       "          s.onerror = () => reject(`Error loading script: ${paths[lib]}`);\n",
       "          s.src = paths[lib];\n",
       "        });\n",
       "    }\n",
       "\n",
       "    function showError(err) {\n",
       "      outputDiv.innerHTML = `<div class=\"error\" style=\"color:red;\">${err}</div>`;\n",
       "      throw err;\n",
       "    }\n",
       "\n",
       "    function displayChart(vegaEmbed) {\n",
       "      vegaEmbed(outputDiv, spec, embedOpt)\n",
       "        .catch(err => showError(`Javascript Error: ${err.message}<br>This usually means there's a typo in your chart specification. See the javascript console for the full traceback.`));\n",
       "    }\n",
       "\n",
       "    if(typeof define === \"function\" && define.amd) {\n",
       "      requirejs.config({paths});\n",
       "      require([\"vega-embed\"], displayChart, err => showError(`Error loading script: ${err.message}`));\n",
       "    } else {\n",
       "      maybeLoadScript(\"vega\", \"5\")\n",
       "        .then(() => maybeLoadScript(\"vega-lite\", \"5.17.0\"))\n",
       "        .then(() => maybeLoadScript(\"vega-embed\", \"6\"))\n",
       "        .catch(showError)\n",
       "        .then(() => displayChart(vegaEmbed));\n",
       "    }\n",
       "  })({\"config\": {\"view\": {\"continuousWidth\": 300, \"continuousHeight\": 300}, \"axis\": {\"grid\": false, \"ticks\": false}}, \"data\": {\"name\": \"data-b851257683b8c12846cd40a0df5ae2d5\"}, \"mark\": {\"type\": \"bar\", \"color\": \"pink\"}, \"encoding\": {\"color\": {\"condition\": {\"test\": \"(datum.Count === 8006)\", \"value\": \"steelblue\"}, \"value\": \"gray\"}, \"x\": {\"field\": \"Count\", \"type\": \"quantitative\"}, \"y\": {\"field\": \"Category\", \"type\": \"nominal\"}}, \"height\": 200, \"title\": \" Top 311 Complaints by Category\", \"width\": 800, \"$schema\": \"https://vega.github.io/schema/vega-lite/v5.17.0.json\", \"datasets\": {\"data-b851257683b8c12846cd40a0df5ae2d5\": [{\"Category\": \"Illegal Parking\", \"Count\": 104375}, {\"Category\": \"Illegal Dumping\", \"Count\": 8390}, {\"Category\": \"Illegal Fireworks\", \"Count\": 8006}, {\"Category\": \"Illegal Tree Damage\", \"Count\": 1558}, {\"Category\": \"Illegal Posting\", \"Count\": 931}, {\"Category\": \"Illegal Animal Kept as Pet\", \"Count\": 118}, {\"Category\": \"Illegal Animal Sold\", \"Count\": 14}]}}, {\"mode\": \"vega-lite\"});\n",
       "</script>"
      ],
      "text/plain": [
       "alt.Chart(...)"
      ]
     },
     "metadata": {},
     "output_type": "display_data"
    }
   ],
   "source": [
    "# Create Altair chart\n",
    "\n",
    "#max_count = value_counts['Count'].max()\n",
    "fw_count= len(df[df['Complaint Type']==\"Illegal Fireworks\"])\n",
    "chart = alt.Chart(value_counts).mark_bar(color=\"pink\").encode(\n",
    "    x='Count',\n",
    "    y='Category',\n",
    "    color=alt.condition(\n",
    "        #alt.datum.Count == max_count,\n",
    "        alt.datum.Count == fw_count,\n",
    "        alt.value('steelblue'),  # Color for bars with maximum count\n",
    "        alt.value('gray')  # Color for other bars\n",
    "    )\n",
    "\n",
    "\n",
    "    \n",
    ").properties(\n",
    "    title=' Top 311 Complaints by Category',\n",
    "    width=800,\n",
    "    height=200\n",
    "     \n",
    ")\n",
    "\n",
    "\n",
    "#remove gridlines\n",
    "chart = chart.configure_axis(\n",
    "    grid=False,\n",
    "    ticks=False\n",
    ")\n",
    "\n",
    "\n",
    "chart.show()\n",
    "#chart.save(\"category_value_counts.svg\")"
   ]
  },
  {
   "cell_type": "code",
   "execution_count": null,
   "id": "32c60a65-f15d-4d5d-b5d2-bfb8bcde1b19",
   "metadata": {},
   "outputs": [],
   "source": [
    "df.info()"
   ]
  },
  {
   "cell_type": "code",
   "execution_count": null,
   "id": "82cd53f9-7de4-4f9c-a6ba-203cb6b3e482",
   "metadata": {},
   "outputs": [],
   "source": [
    "##Convert date to datetime"
   ]
  },
  {
   "cell_type": "code",
   "execution_count": 16,
   "id": "583c5413-5225-4d32-9ff5-7e674054aeab",
   "metadata": {},
   "outputs": [],
   "source": [
    "#convert to datetime\n",
    "df['created_datetime']=pd.to_datetime(df['Created Date'], format='%m/%d/%Y %I:%M:%S %p')"
   ]
  },
  {
   "cell_type": "code",
   "execution_count": 17,
   "id": "dd4f8be7-b7d3-4d36-aa0e-9f996c152c53",
   "metadata": {},
   "outputs": [
    {
     "name": "stdout",
     "output_type": "stream",
     "text": [
      "<class 'pandas.core.frame.DataFrame'>\n",
      "RangeIndex: 123392 entries, 0 to 123391\n",
      "Data columns (total 48 columns):\n",
      " #   Column                          Non-Null Count   Dtype         \n",
      "---  ------                          --------------   -----         \n",
      " 0   Unique Key                      123392 non-null  int64         \n",
      " 1   Created Date                    123392 non-null  object        \n",
      " 2   Closed Date                     122523 non-null  object        \n",
      " 3   Agency                          123392 non-null  object        \n",
      " 4   Agency Name                     123392 non-null  object        \n",
      " 5   Complaint Type                  123392 non-null  object        \n",
      " 6   Descriptor                      115386 non-null  object        \n",
      " 7   Location Type                   123392 non-null  object        \n",
      " 8   Incident Zip                    123383 non-null  float64       \n",
      " 9   Incident Address                123386 non-null  object        \n",
      " 10  Street Name                     123386 non-null  object        \n",
      " 11  Cross Street 1                  123195 non-null  object        \n",
      " 12  Cross Street 2                  123286 non-null  object        \n",
      " 13  Intersection Street 1           123195 non-null  object        \n",
      " 14  Intersection Street 2           123286 non-null  object        \n",
      " 15  Address Type                    123384 non-null  object        \n",
      " 16  City                            113358 non-null  object        \n",
      " 17  Landmark                        113349 non-null  object        \n",
      " 18  Facility Type                   0 non-null       float64       \n",
      " 19  Status                          123392 non-null  object        \n",
      " 20  Due Date                        0 non-null       float64       \n",
      " 21  Resolution Description          123144 non-null  object        \n",
      " 22  Resolution Action Updated Date  123203 non-null  object        \n",
      " 23  Community Board                 123392 non-null  object        \n",
      " 24  BBL                             106531 non-null  float64       \n",
      " 25  Borough                         123392 non-null  object        \n",
      " 26  X Coordinate (State Plane)      122448 non-null  float64       \n",
      " 27  Y Coordinate (State Plane)      122448 non-null  float64       \n",
      " 28  Open Data Channel Type          123392 non-null  object        \n",
      " 29  Park Facility Name              123392 non-null  object        \n",
      " 30  Park Borough                    123392 non-null  object        \n",
      " 31  Vehicle Type                    8592 non-null    object        \n",
      " 32  Taxi Company Borough            0 non-null       float64       \n",
      " 33  Taxi Pick Up Location           0 non-null       float64       \n",
      " 34  Bridge Highway Name             6 non-null       object        \n",
      " 35  Bridge Highway Direction        6 non-null       object        \n",
      " 36  Road Ramp                       4 non-null       object        \n",
      " 37  Bridge Highway Segment          4 non-null       object        \n",
      " 38  Latitude                        122448 non-null  float64       \n",
      " 39  Longitude                       122448 non-null  float64       \n",
      " 40  Location                        122448 non-null  object        \n",
      " 41  Zip Codes                       122120 non-null  float64       \n",
      " 42  Community Districts             122429 non-null  float64       \n",
      " 43  Borough Boundaries              122428 non-null  float64       \n",
      " 44  City Council Districts          122429 non-null  float64       \n",
      " 45  Police Precincts                122429 non-null  float64       \n",
      " 46  Police Precinct                 122430 non-null  float64       \n",
      " 47  created_datetime                123392 non-null  datetime64[ns]\n",
      "dtypes: datetime64[ns](1), float64(16), int64(1), object(30)\n",
      "memory usage: 45.2+ MB\n"
     ]
    }
   ],
   "source": [
    "df.info()"
   ]
  },
  {
   "cell_type": "code",
   "execution_count": 18,
   "id": "392c2bfb-06cc-4ed7-8a1f-0991569a0087",
   "metadata": {},
   "outputs": [],
   "source": [
    "#weekday name\n",
    "df['dayOfWeek'] = df['created_datetime'].dt.day_name()"
   ]
  },
  {
   "cell_type": "code",
   "execution_count": 19,
   "id": "6b240464-f70d-4d0e-a7b7-0ae18fb5b057",
   "metadata": {},
   "outputs": [],
   "source": [
    "df['date_only'] = df['created_datetime'].dt.date\n"
   ]
  },
  {
   "cell_type": "markdown",
   "id": "9882f855-62fb-4026-9ab5-a2c0d282e674",
   "metadata": {},
   "source": [
    "## round time to the nearest hour "
   ]
  },
  {
   "cell_type": "code",
   "execution_count": 20,
   "id": "27205f54-011a-4d70-a584-90ce0cb7d87f",
   "metadata": {},
   "outputs": [],
   "source": [
    "#https://stackoverflow.com/questions/49561989/pandas-rounding-to-nearest-hour\n",
    "df['hour_rounded'] = df['created_datetime'].dt.round('h').dt.hour"
   ]
  },
  {
   "cell_type": "code",
   "execution_count": null,
   "id": "5621664a-d402-4fbb-8791-c2c73a1a91a3",
   "metadata": {},
   "outputs": [],
   "source": []
  },
  {
   "cell_type": "code",
   "execution_count": 21,
   "id": "4fec9aa2-fbc6-4c47-ab34-d40d4db9aa90",
   "metadata": {},
   "outputs": [],
   "source": [
    "\n",
    "##make a new column identifying time of day#Morning (6am-11am),  6-11  \n",
    "#afternoon (12-5pm)   12-17\n",
    "#evening (6-11pm)    18 - 23\n",
    "#late evening ( 12-5am) 24,0 1,2, 3, 4, 5,\n",
    "\n",
    "# Conditionally update column 'B' using df.loc\n",
    "df.loc[(df['hour_rounded'] >= 6) & (df['hour_rounded'] <= 11), 'time_of_day'] = 'morning'\n",
    "df.loc[(df['hour_rounded'] >= 12) & (df['hour_rounded'] <= 17), 'time_of_day'] = 'afternoon'\n",
    "df.loc[(df['hour_rounded'] >= 18) & (df['hour_rounded'] <= 23), 'time_of_day'] = 'evening'\n",
    "df.loc[(df['hour_rounded'] < 6) | (df['hour_rounded'] >= 24), 'time_of_day'] = 'late night'"
   ]
  },
  {
   "cell_type": "markdown",
   "id": "de96cf5c-68b7-4dbb-8b2c-cadd2438d1bd",
   "metadata": {},
   "source": [
    "## subset to the illegal fireworks only"
   ]
  },
  {
   "cell_type": "code",
   "execution_count": 22,
   "id": "f2f7873d-1460-4617-bac0-37ac064d0914",
   "metadata": {},
   "outputs": [],
   "source": [
    "illegal_fw=df[df['Complaint Type']==\"Illegal Fireworks\"]"
   ]
  },
  {
   "cell_type": "markdown",
   "id": "a78394ce-dde3-431f-86d3-cf9832892594",
   "metadata": {},
   "source": [
    "## Whats the most frequent day illegal fireworks are reported"
   ]
  },
  {
   "cell_type": "code",
   "execution_count": 24,
   "id": "4d3ff8a9-4485-4d7d-ab55-832415b196c9",
   "metadata": {},
   "outputs": [
    {
     "data": {
      "image/png": "[encoded data removed]",
      "text/plain": [
       "<Figure size 640x480 with 1 Axes>"
      ]
     },
     "metadata": {},
     "output_type": "display_data"
    }
   ],
   "source": [
    "import matplotlib.pyplot as plt\n",
    "illegal_fw['dayOfWeek'].value_counts().plot(kind=\"barh\")\n",
    "plt.savefig('day.svg', format='svg')"
   ]
  },
  {
   "cell_type": "code",
   "execution_count": 25,
   "id": "0f21eae8-f8f0-48b4-9062-a0095dc7549e",
   "metadata": {},
   "outputs": [],
   "source": [
    "day_of_week=illegal_fw['dayOfWeek'].value_counts().reset_index()\n",
    "day_of_week.columns=['day','count']\n"
   ]
  },
  {
   "cell_type": "code",
   "execution_count": 26,
   "id": "08fb2251-df18-4763-b16b-02898babf4ad",
   "metadata": {},
   "outputs": [
    {
     "data": {
      "text/html": [
       "\n",
       "<style>\n",
       "  #altair-viz-b9ea4f14f58c49a498feca05dc1f7660.vega-embed {\n",
       "    width: 100%;\n",
       "    display: flex;\n",
       "  }\n",
       "\n",
       "  #altair-viz-b9ea4f14f58c49a498feca05dc1f7660.vega-embed details,\n",
       "  #altair-viz-b9ea4f14f58c49a498feca05dc1f7660.vega-embed details summary {\n",
       "    position: relative;\n",
       "  }\n",
       "</style>\n",
       "<div id=\"altair-viz-b9ea4f14f58c49a498feca05dc1f7660\"></div>\n",
       "<script type=\"text/javascript\">\n",
       "  var VEGA_DEBUG = (typeof VEGA_DEBUG == \"undefined\") ? {} : VEGA_DEBUG;\n",
       "  (function(spec, embedOpt){\n",
       "    let outputDiv = document.currentScript.previousElementSibling;\n",
       "    if (outputDiv.id !== \"altair-viz-b9ea4f14f58c49a498feca05dc1f7660\") {\n",
       "      outputDiv = document.getElementById(\"altair-viz-b9ea4f14f58c49a498feca05dc1f7660\");\n",
       "    }\n",
       "    const paths = {\n",
       "      \"vega\": \"https://cdn.jsdelivr.net/npm/vega@5?noext\",\n",
       "      \"vega-lib\": \"https://cdn.jsdelivr.net/npm/vega-lib?noext\",\n",
       "      \"vega-lite\": \"https://cdn.jsdelivr.net/npm/vega-lite@5.17.0?noext\",\n",
       "      \"vega-embed\": \"https://cdn.jsdelivr.net/npm/vega-embed@6?noext\",\n",
       "    };\n",
       "\n",
       "    function maybeLoadScript(lib, version) {\n",
       "      var key = `${lib.replace(\"-\", \"\")}_version`;\n",
       "      return (VEGA_DEBUG[key] == version) ?\n",
       "        Promise.resolve(paths[lib]) :\n",
       "        new Promise(function(resolve, reject) {\n",
       "          var s = document.createElement('script');\n",
       "          document.getElementsByTagName(\"head\")[0].appendChild(s);\n",
       "          s.async = true;\n",
       "          s.onload = () => {\n",
       "            VEGA_DEBUG[key] = version;\n",
       "            return resolve(paths[lib]);\n",
       "          };\n",
       "          s.onerror = () => reject(`Error loading script: ${paths[lib]}`);\n",
       "          s.src = paths[lib];\n",
       "        });\n",
       "    }\n",
       "\n",
       "    function showError(err) {\n",
       "      outputDiv.innerHTML = `<div class=\"error\" style=\"color:red;\">${err}</div>`;\n",
       "      throw err;\n",
       "    }\n",
       "\n",
       "    function displayChart(vegaEmbed) {\n",
       "      vegaEmbed(outputDiv, spec, embedOpt)\n",
       "        .catch(err => showError(`Javascript Error: ${err.message}<br>This usually means there's a typo in your chart specification. See the javascript console for the full traceback.`));\n",
       "    }\n",
       "\n",
       "    if(typeof define === \"function\" && define.amd) {\n",
       "      requirejs.config({paths});\n",
       "      require([\"vega-embed\"], displayChart, err => showError(`Error loading script: ${err.message}`));\n",
       "    } else {\n",
       "      maybeLoadScript(\"vega\", \"5\")\n",
       "        .then(() => maybeLoadScript(\"vega-lite\", \"5.17.0\"))\n",
       "        .then(() => maybeLoadScript(\"vega-embed\", \"6\"))\n",
       "        .catch(showError)\n",
       "        .then(() => displayChart(vegaEmbed));\n",
       "    }\n",
       "  })({\"config\": {\"view\": {\"continuousWidth\": 300, \"continuousHeight\": 300}}, \"data\": {\"name\": \"data-5ada958ef14878a7c2db117dee48f9dd\"}, \"mark\": {\"type\": \"bar\"}, \"encoding\": {\"x\": {\"field\": \"count\", \"type\": \"quantitative\"}, \"y\": {\"field\": \"day\", \"type\": \"nominal\"}}, \"$schema\": \"https://vega.github.io/schema/vega-lite/v5.17.0.json\", \"datasets\": {\"data-5ada958ef14878a7c2db117dee48f9dd\": [{\"day\": \"Thursday\", \"count\": 2943}, {\"day\": \"Friday\", \"count\": 1547}, {\"day\": \"Saturday\", \"count\": 1034}, {\"day\": \"Sunday\", \"count\": 832}, {\"day\": \"Wednesday\", \"count\": 731}, {\"day\": \"Monday\", \"count\": 479}, {\"day\": \"Tuesday\", \"count\": 440}]}}, {\"mode\": \"vega-lite\"});\n",
       "</script>"
      ],
      "text/plain": [
       "alt.Chart(...)"
      ]
     },
     "metadata": {},
     "output_type": "display_data"
    }
   ],
   "source": [
    "chart = alt.Chart(day_of_week).mark_bar().encode(\n",
    "    y='day',\n",
    "    x='count'\n",
    ")\n",
    "\n",
    "\n",
    "\n",
    "chart.show()  # This will display the chart"
   ]
  },
  {
   "cell_type": "code",
   "execution_count": 27,
   "id": "16e6fce7-a8bd-4207-9754-11978ef4dc86",
   "metadata": {},
   "outputs": [
    {
     "data": {
      "text/html": [
       "\n",
       "<style>\n",
       "  #altair-viz-607448f65d8d40c6aa4fd0c62a0ba890.vega-embed {\n",
       "    width: 100%;\n",
       "    display: flex;\n",
       "  }\n",
       "\n",
       "  #altair-viz-607448f65d8d40c6aa4fd0c62a0ba890.vega-embed details,\n",
       "  #altair-viz-607448f65d8d40c6aa4fd0c62a0ba890.vega-embed details summary {\n",
       "    position: relative;\n",
       "  }\n",
       "</style>\n",
       "<div id=\"altair-viz-607448f65d8d40c6aa4fd0c62a0ba890\"></div>\n",
       "<script type=\"text/javascript\">\n",
       "  var VEGA_DEBUG = (typeof VEGA_DEBUG == \"undefined\") ? {} : VEGA_DEBUG;\n",
       "  (function(spec, embedOpt){\n",
       "    let outputDiv = document.currentScript.previousElementSibling;\n",
       "    if (outputDiv.id !== \"altair-viz-607448f65d8d40c6aa4fd0c62a0ba890\") {\n",
       "      outputDiv = document.getElementById(\"altair-viz-607448f65d8d40c6aa4fd0c62a0ba890\");\n",
       "    }\n",
       "    const paths = {\n",
       "      \"vega\": \"https://cdn.jsdelivr.net/npm/vega@5?noext\",\n",
       "      \"vega-lib\": \"https://cdn.jsdelivr.net/npm/vega-lib?noext\",\n",
       "      \"vega-lite\": \"https://cdn.jsdelivr.net/npm/vega-lite@5.17.0?noext\",\n",
       "      \"vega-embed\": \"https://cdn.jsdelivr.net/npm/vega-embed@6?noext\",\n",
       "    };\n",
       "\n",
       "    function maybeLoadScript(lib, version) {\n",
       "      var key = `${lib.replace(\"-\", \"\")}_version`;\n",
       "      return (VEGA_DEBUG[key] == version) ?\n",
       "        Promise.resolve(paths[lib]) :\n",
       "        new Promise(function(resolve, reject) {\n",
       "          var s = document.createElement('script');\n",
       "          document.getElementsByTagName(\"head\")[0].appendChild(s);\n",
       "          s.async = true;\n",
       "          s.onload = () => {\n",
       "            VEGA_DEBUG[key] = version;\n",
       "            return resolve(paths[lib]);\n",
       "          };\n",
       "          s.onerror = () => reject(`Error loading script: ${paths[lib]}`);\n",
       "          s.src = paths[lib];\n",
       "        });\n",
       "    }\n",
       "\n",
       "    function showError(err) {\n",
       "      outputDiv.innerHTML = `<div class=\"error\" style=\"color:red;\">${err}</div>`;\n",
       "      throw err;\n",
       "    }\n",
       "\n",
       "    function displayChart(vegaEmbed) {\n",
       "      vegaEmbed(outputDiv, spec, embedOpt)\n",
       "        .catch(err => showError(`Javascript Error: ${err.message}<br>This usually means there's a typo in your chart specification. See the javascript console for the full traceback.`));\n",
       "    }\n",
       "\n",
       "    if(typeof define === \"function\" && define.amd) {\n",
       "      requirejs.config({paths});\n",
       "      require([\"vega-embed\"], displayChart, err => showError(`Error loading script: ${err.message}`));\n",
       "    } else {\n",
       "      maybeLoadScript(\"vega\", \"5\")\n",
       "        .then(() => maybeLoadScript(\"vega-lite\", \"5.17.0\"))\n",
       "        .then(() => maybeLoadScript(\"vega-embed\", \"6\"))\n",
       "        .catch(showError)\n",
       "        .then(() => displayChart(vegaEmbed));\n",
       "    }\n",
       "  })({\"config\": {\"view\": {\"continuousWidth\": 300, \"continuousHeight\": 300}, \"axis\": {\"grid\": false, \"ticks\": false}}, \"data\": {\"name\": \"data-5ada958ef14878a7c2db117dee48f9dd\"}, \"mark\": {\"type\": \"bar\"}, \"encoding\": {\"x\": {\"field\": \"count\", \"title\": \"\", \"type\": \"quantitative\"}, \"y\": {\"field\": \"day\", \"title\": \"\", \"type\": \"nominal\"}}, \"height\": 200, \"title\": \" Most Popular day\", \"width\": 800, \"$schema\": \"https://vega.github.io/schema/vega-lite/v5.17.0.json\", \"datasets\": {\"data-5ada958ef14878a7c2db117dee48f9dd\": [{\"day\": \"Thursday\", \"count\": 2943}, {\"day\": \"Friday\", \"count\": 1547}, {\"day\": \"Saturday\", \"count\": 1034}, {\"day\": \"Sunday\", \"count\": 832}, {\"day\": \"Wednesday\", \"count\": 731}, {\"day\": \"Monday\", \"count\": 479}, {\"day\": \"Tuesday\", \"count\": 440}]}}, {\"mode\": \"vega-lite\"});\n",
       "</script>"
      ],
      "text/plain": [
       "alt.Chart(...)"
      ]
     },
     "metadata": {},
     "output_type": "display_data"
    }
   ],
   "source": [
    "\n",
    "chart = alt.Chart(day_of_week).mark_bar().encode(\n",
    "    x=alt.X('count', title=''),\n",
    "    y=alt.Y('day', title='')\n",
    "\n",
    "\n",
    ").properties(\n",
    "    title=' Most Popular day',\n",
    "    width=800,\n",
    "    height=200\n",
    "     \n",
    ")\n",
    "\n",
    "\n",
    "#remove gridlines\n",
    "chart = chart.configure_axis(\n",
    "    grid=False,\n",
    "    ticks=False\n",
    ")\n",
    "\n",
    "\n",
    "chart.show()  # This will display the chart"
   ]
  },
  {
   "cell_type": "markdown",
   "id": "3f50748a-c782-422c-a4c1-a9dd363ffb19",
   "metadata": {},
   "source": [
    "## what are the most popular hours of the day for reporting issues\n"
   ]
  },
  {
   "cell_type": "code",
   "execution_count": 28,
   "id": "4e4fa5d8-2a01-4422-be50-f021eb838840",
   "metadata": {},
   "outputs": [
    {
     "data": {
      "image/png": "[encoded data removed]",
      "text/plain": [
       "<Figure size 640x480 with 1 Axes>"
      ]
     },
     "metadata": {},
     "output_type": "display_data"
    }
   ],
   "source": [
    "##what are the most popular hours of the day for reporting issues\n",
    "fw_hours=illegal_fw['hour_rounded'].value_counts().head()\n",
    "fw_hours.columns =['hour','count']\n",
    "#value_counts = df['Complaint Type'].value_counts().reset_index()\n",
    "#value_counts.columns = ['Category', 'Count']\n",
    "fw_hours.plot(kind=\"barh\")\n",
    "\n",
    "# Save the plot as SVG\n",
    "plt.savefig('hours.svg', format='svg')"
   ]
  },
  {
   "cell_type": "markdown",
   "id": "36dcba1b-7ae3-446e-8e07-361b5a837575",
   "metadata": {},
   "source": [
    "## whats the most popular time of day for reporting fireworks?"
   ]
  },
  {
   "cell_type": "code",
   "execution_count": 29,
   "id": "6a7e2c8c-602d-40d9-963e-8092979f0abd",
   "metadata": {},
   "outputs": [
    {
     "data": {
      "text/plain": [
       "time_of_day\n",
       "evening       5199\n",
       "late night    2495\n",
       "afternoon      186\n",
       "morning        126\n",
       "Name: count, dtype: int64"
      ]
     },
     "execution_count": 29,
     "metadata": {},
     "output_type": "execute_result"
    }
   ],
   "source": [
    "illegal_fw['time_of_day'].value_counts()"
   ]
  },
  {
   "cell_type": "code",
   "execution_count": 30,
   "id": "209d809f-74a3-4bcc-84dc-d7aba3af4e4e",
   "metadata": {},
   "outputs": [
    {
     "data": {
      "image/png": "[encoded data removed]",
      "text/plain": [
       "<Figure size 640x480 with 1 Axes>"
      ]
     },
     "metadata": {},
     "output_type": "display_data"
    }
   ],
   "source": [
    "illegal_fw['time_of_day'].value_counts().plot(kind=\"barh\")\n",
    "\n",
    "plt.savefig('time.svg', format='svg')"
   ]
  },
  {
   "cell_type": "code",
   "execution_count": null,
   "id": "67f4192e-615b-4e7f-9920-b96b8babf10c",
   "metadata": {},
   "outputs": [],
   "source": [
    "## how many fireworks reported over time"
   ]
  },
  {
   "cell_type": "code",
   "execution_count": null,
   "id": "536375f5-991a-4a57-a89e-83e962e35b4e",
   "metadata": {},
   "outputs": [],
   "source": [
    "illegal_fw.info()"
   ]
  },
  {
   "cell_type": "code",
   "execution_count": 33,
   "id": "15f9c3df-1d29-4910-b8f8-a251bcb5bf02",
   "metadata": {},
   "outputs": [],
   "source": [
    "dates_fw=illegal_fw['date_only'].value_counts().reset_index()\n",
    "dates_fw.columns =['date','count']\n",
    "\n",
    "dates_fw.to_csv('outputdates.csv', index=False)"
   ]
  },
  {
   "cell_type": "code",
   "execution_count": 32,
   "id": "fc61d519-2723-4730-93f3-71090ac56f2d",
   "metadata": {},
   "outputs": [
    {
     "data": {
      "text/plain": [
       "<Axes: >"
      ]
     },
     "execution_count": 32,
     "metadata": {},
     "output_type": "execute_result"
    },
    {
     "data": {
      "image/png": "[encoded data removed]",
      "text/plain": [
       "<Figure size 640x480 with 1 Axes>"
      ]
     },
     "metadata": {},
     "output_type": "display_data"
    }
   ],
   "source": [
    "dates_fw.plot(kind=\"bar\")"
   ]
  },
  {
   "cell_type": "code",
   "execution_count": null,
   "id": "09d9a456-6499-4041-ad43-07cb02b713ea",
   "metadata": {},
   "outputs": [],
   "source": []
  }
 ],
 "metadata": {
  "kernelspec": {
   "display_name": "Python 3 (ipykernel)",
   "language": "python",
   "name": "python3"
  },
  "language_info": {
   "codemirror_mode": {
    "name": "ipython",
    "version": 3
   },
   "file_extension": ".py",
   "mimetype": "text/x-python",
   "name": "python",
   "nbconvert_exporter": "python",
   "pygments_lexer": "ipython3",
   "version": "3.11.8"
  }
 },
 "nbformat": 4,
 "nbformat_minor": 5
}
